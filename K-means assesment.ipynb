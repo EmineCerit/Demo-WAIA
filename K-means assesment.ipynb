{
 "cells": [
  {
   "cell_type": "code",
   "execution_count": 1,
   "metadata": {},
   "outputs": [
    {
     "data": {
      "text/plain": [
       "array([ 2, 10])"
      ]
     },
     "execution_count": 1,
     "metadata": {},
     "output_type": "execute_result"
    }
   ],
   "source": [
    "import numpy as np\n",
    "import math\n",
    "import matplotlib.pyplot as plt\n",
    "import seaborn as sns\n",
    "import warnings\n",
    "warnings.filterwarnings(\"ignore\")\n",
    "\n",
    "\n",
    "pts = [(2, 10), (2, 5), (8, 4), (5, 8), (7, 5), (6, 4), (1, 2), (4, 9)]\n",
    "pts=np.array(pts)\n",
    "pts[0]"
   ]
  },
  {
   "cell_type": "code",
   "execution_count": 2,
   "metadata": {},
   "outputs": [
    {
     "data": {
      "text/plain": [
       "(array([ 2, 10]), array([5, 8]), array([1, 2]))"
      ]
     },
     "execution_count": 2,
     "metadata": {},
     "output_type": "execute_result"
    }
   ],
   "source": [
    "C1=pts[0]\n",
    "C2=pts[3]\n",
    "C3=pts[6]\n",
    "C1,C2,C3"
   ]
  },
  {
   "cell_type": "code",
   "execution_count": 3,
   "metadata": {},
   "outputs": [
    {
     "name": "stdout",
     "output_type": "stream",
     "text": [
      "iteration: 0, Point: [ 2 10]\n",
      "C1: [ 2 10],C2: [5 8],C3:[1 2]\n",
      "Distance from the Center_1: 0.0 \n",
      "Distance from the Center_2: 3.6055512754639896 \n",
      "Distance from the Center_3: 8.06225774829855 \n",
      "C2:[5 8]\n",
      "C2 ist relocated. New C2:[3.5 9. ]\n",
      "C1: [ 2 10],C2: [3.5 9. ],C3:[1 2] at the end of iteration 0\n",
      "---------------------------------------------------------------------------------------------\n",
      "iteration: 1, Point: [2 5]\n",
      "C1: [ 2 10],C2: [3.5 9. ],C3:[1 2]\n",
      "Distance from the Center_1: 5.0 \n",
      "Distance from the Center_2: 4.272001872658765 \n",
      "Distance from the Center_3: 3.1622776601683795 \n",
      "C3:[1 2]\n",
      "C3 ist relocated. New C3:[1.5 3.5]\n",
      "C1: [ 2 10],C2: [3.5 9. ],C3:[1.5 3.5] at the end of iteration 1\n",
      "---------------------------------------------------------------------------------------------\n",
      "iteration: 2, Point: [8 4]\n",
      "C1: [ 2 10],C2: [3.5 9. ],C3:[1.5 3.5]\n",
      "Distance from the Center_1: 8.485281374238571 \n",
      "Distance from the Center_2: 6.726812023536856 \n",
      "Distance from the Center_3: 6.519202405202649 \n",
      "C3:[1.5 3.5]\n",
      "C3 ist relocated. New C3:[4.75 3.75]\n",
      "C1: [ 2 10],C2: [3.5 9. ],C3:[4.75 3.75] at the end of iteration 2\n",
      "---------------------------------------------------------------------------------------------\n",
      "iteration: 3, Point: [5 8]\n",
      "C1: [ 2 10],C2: [3.5 9. ],C3:[4.75 3.75]\n",
      "Distance from the Center_1: 3.6055512754639896 \n",
      "Distance from the Center_2: 1.8027756377319948 \n",
      "Distance from the Center_3: 4.257346591481601 \n",
      "C2:[3.5 9. ]\n",
      "C2 ist relocated. New C2:[4.25 8.5 ]\n",
      "C1: [ 2 10],C2: [4.25 8.5 ],C3:[4.75 3.75] at the end of iteration 3\n",
      "---------------------------------------------------------------------------------------------\n",
      "iteration: 4, Point: [7 5]\n",
      "C1: [ 2 10],C2: [4.25 8.5 ],C3:[4.75 3.75]\n",
      "Distance from the Center_1: 7.0710678118654755 \n",
      "Distance from the Center_2: 4.451123453691213 \n",
      "Distance from the Center_3: 2.57390753524675 \n",
      "C3:[4.75 3.75]\n",
      "C3 ist relocated. New C3:[5.875 4.375]\n",
      "C1: [ 2 10],C2: [4.25 8.5 ],C3:[5.875 4.375] at the end of iteration 4\n",
      "---------------------------------------------------------------------------------------------\n",
      "iteration: 5, Point: [6 4]\n",
      "C1: [ 2 10],C2: [4.25 8.5 ],C3:[5.875 4.375]\n",
      "Distance from the Center_1: 7.211102550927979 \n",
      "Distance from the Center_2: 4.828301978956992 \n",
      "Distance from the Center_3: 0.39528470752104744 \n",
      "C3:[5.875 4.375]\n",
      "C3 ist relocated. New C3:[5.9375 4.1875]\n",
      "C1: [ 2 10],C2: [4.25 8.5 ],C3:[5.9375 4.1875] at the end of iteration 5\n",
      "---------------------------------------------------------------------------------------------\n",
      "iteration: 6, Point: [1 2]\n",
      "C1: [ 2 10],C2: [4.25 8.5 ],C3:[5.9375 4.1875]\n",
      "Distance from the Center_1: 8.06225774829855 \n",
      "Distance from the Center_2: 7.267220926874317 \n",
      "Distance from the Center_3: 5.400376144306987 \n",
      "C3:[5.9375 4.1875]\n",
      "C3 ist relocated. New C3:[3.46875 3.09375]\n",
      "C1: [ 2 10],C2: [4.25 8.5 ],C3:[3.46875 3.09375] at the end of iteration 6\n",
      "---------------------------------------------------------------------------------------------\n"
     ]
    }
   ],
   "source": [
    "for i in range (0,7):\n",
    "    print('iteration: {}, Point: {}'.format(i,pts[i]))\n",
    "    print('C1: {},C2: {},C3:{}'.format(C1,C2,C3))\n",
    "    \n",
    "    dist1=math.dist(C1,pts[i])\n",
    "    dist2=math.dist(C2,pts[i])\n",
    "    dist3=math.dist(C3,pts[i])\n",
    "    print('Distance from the Center_1: {} '.format(dist1))\n",
    "    print('Distance from the Center_2: {} '.format(dist2))\n",
    "    print('Distance from the Center_3: {} '.format(dist3))\n",
    "    \n",
    "    if dist1==0.0:\n",
    "        if dist2<dist3:\n",
    "            \n",
    "            print('C2:{}'.format(C2))\n",
    "            C2=(C2+pts[i])/2\n",
    "            print('C2 ist relocated. New C2:{}'.format(C2)) \n",
    "        else:\n",
    "          \n",
    "            print('C3:{}'.format(C3))\n",
    "            C3=(C3+pts[i])/2\n",
    "            print('C3 ist relocated. New C3:{}'.format(C3))\n",
    "    \n",
    "    if dist2==0.0:\n",
    "            \n",
    "            if dist1<dist3:\n",
    "                \n",
    "                print('C1:{}'.format(C1))\n",
    "                C1=(C1+pts[i])/2\n",
    "                print('C1 ist relocated. New C1:{}'.format(C1)) \n",
    "            \n",
    "            else:\n",
    "                \n",
    "                print('C3:{}'.format(C3))\n",
    "                C3=(C3+pts[i])/2\n",
    "                print('C3 ist relocated. New C3:{}'.format(C3))\n",
    "    \n",
    "    if dist3==0.0:\n",
    "            \n",
    "            if dist1<dist2:\n",
    "               \n",
    "                print('C1:{}'.format(C1))\n",
    "                C1=(C1+pts[i])/2\n",
    "                print('C1 ist relocated. New C1:{}'.format(C1)) \n",
    "            \n",
    "            else:\n",
    "               \n",
    "                print('C2:{}'.format(C2))\n",
    "                C2=(C2+pts[i])/2\n",
    "                print('C2 ist relocated. New C2:{}'.format(C2)) \n",
    "        \n",
    "     \n",
    "        \n",
    "    if dist1!=0.0 and dist2!=0.0 and dist3!=0.0:\n",
    "        if dist1<dist2 and dist1<dist3: \n",
    "            print('C1:{}'.format(C1))\n",
    "            C1=(C1+pts[i])/2\n",
    "            print('C1 ist relocated. New C1:{}'.format(C1))\n",
    "        \n",
    "   \n",
    "        if dist2< dist1 and dist2<dist3:\n",
    "            print('C2:{}'.format(C2))\n",
    "            C2=(C2+pts[i])/2\n",
    "            print('C2 ist relocated. New C2:{}'.format(C2))\n",
    "   \n",
    "     \n",
    "        if  dist3< dist1 and dist3<dist2:\n",
    "            print('C3:{}'.format(C3))\n",
    "            C3=(C3+pts[i])/2\n",
    "            print('C3 ist relocated. New C3:{}'.format(C3))\n",
    "    \n",
    "    print('C1: {},C2: {},C3:{} at the end of iteration {}'.format(C1,C2,C3,i))\n",
    "    \n",
    " \n",
    "    \n",
    "    print('---------------------------------------------------------------------------------------------')"
   ]
  },
  {
   "cell_type": "code",
   "execution_count": 4,
   "metadata": {},
   "outputs": [
    {
     "data": {
      "text/plain": [
       "[]"
      ]
     },
     "execution_count": 4,
     "metadata": {},
     "output_type": "execute_result"
    },
    {
     "data": {
      "image/png": "[encoded data removed]",
      "text/plain": [
       "<Figure size 432x288 with 1 Axes>"
      ]
     },
     "metadata": {
      "needs_background": "light"
     },
     "output_type": "display_data"
    }
   ],
   "source": [
    "import pandas as pd\n",
    "pts1 = pd.DataFrame(pts, columns=[\"x\", \"y\"])\n",
    "cent=[(2,10), (4.25,8.5),(3.46875,3.09375)]\n",
    "cent=pd.DataFrame(cent,columns=[\"x\", \"y\"])\n",
    "sns.scatterplot(cent[\"x\"], cent[\"y\"]).plot()\n",
    "sns.scatterplot(pts1[\"x\"], pts1[\"y\"]).plot()"
   ]
  },
  {
   "cell_type": "code",
   "execution_count": null,
   "metadata": {},
   "outputs": [],
   "source": []
  },
  {
   "cell_type": "code",
   "execution_count": null,
   "metadata": {},
   "outputs": [],
   "source": []
  },
  {
   "cell_type": "code",
   "execution_count": null,
   "metadata": {},
   "outputs": [],
   "source": []
  },
  {
   "cell_type": "code",
   "execution_count": null,
   "metadata": {},
   "outputs": [],
   "source": []
  },
  {
   "cell_type": "code",
   "execution_count": null,
   "metadata": {},
   "outputs": [],
   "source": []
  }
 ],
 "metadata": {
  "kernelspec": {
   "display_name": "Python 3",
   "language": "python",
   "name": "python3"
  },
  "language_info": {
   "codemirror_mode": {
    "name": "ipython",
    "version": 3
   },
   "file_extension": ".py",
   "mimetype": "text/x-python",
   "name": "python",
   "nbconvert_exporter": "python",
   "pygments_lexer": "ipython3",
   "version": "3.8.5"
  }
 },
 "nbformat": 4,
 "nbformat_minor": 4
}
